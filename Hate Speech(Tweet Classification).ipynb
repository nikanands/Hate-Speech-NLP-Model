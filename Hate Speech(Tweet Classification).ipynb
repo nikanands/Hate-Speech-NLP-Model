{
 "cells": [
  {
   "cell_type": "markdown",
   "metadata": {},
   "source": [
    "## Hate Speech and Offensive Language Detection Model (Tweet Classification)"
   ]
  },
  {
   "cell_type": "markdown",
   "metadata": {},
   "source": [
    "### Importing the libraries\n",
    "\n",
    "Pandas, Numpy, Matplotlib are the basic libraries. Besides these we will need NLTK, Scikit-learn, Tensorflow to make this model work. Let's import them."
   ]
  },
  {
   "cell_type": "code",
   "execution_count": 2,
   "metadata": {},
   "outputs": [],
   "source": [
    "import numpy as np\n",
    "import pandas as pd\n",
    "import matplotlib.pyplot as plt\n",
    "import re\n",
    "\n",
    "from sklearn.model_selection import train_test_split\n",
    "from sklearn.metrics import accuracy_score, precision_recall_fscore_support\n",
    "\n",
    "import tensorflow as tf\n",
    "from tensorflow.keras.models import Sequential\n",
    "from tensorflow.keras.layers import Embedding, Dense, LSTM, Dropout\n",
    "from tensorflow.keras.preprocessing.text import Tokenizer\n",
    "from tensorflow.keras.preprocessing.sequence import pad_sequences\n",
    "from tensorflow.keras.utils import to_categorical\n",
    "\n",
    "import nltk\n",
    "from nltk.corpus import stopwords"
   ]
  },
  {
   "cell_type": "markdown",
   "metadata": {},
   "source": [
    "### Be one with data"
   ]
  },
  {
   "cell_type": "code",
   "execution_count": 3,
   "metadata": {},
   "outputs": [
    {
     "data": {
      "text/html": [
       "<div>\n",
       "<style scoped>\n",
       "    .dataframe tbody tr th:only-of-type {\n",
       "        vertical-align: middle;\n",
       "    }\n",
       "\n",
       "    .dataframe tbody tr th {\n",
       "        vertical-align: top;\n",
       "    }\n",
       "\n",
       "    .dataframe thead th {\n",
       "        text-align: right;\n",
       "    }\n",
       "</style>\n",
       "<table border=\"1\" class=\"dataframe\">\n",
       "  <thead>\n",
       "    <tr style=\"text-align: right;\">\n",
       "      <th></th>\n",
       "      <th>count</th>\n",
       "      <th>hate_speech_count</th>\n",
       "      <th>offensive_language_count</th>\n",
       "      <th>neither_count</th>\n",
       "      <th>class</th>\n",
       "      <th>tweet</th>\n",
       "    </tr>\n",
       "  </thead>\n",
       "  <tbody>\n",
       "    <tr>\n",
       "      <th>0</th>\n",
       "      <td>3</td>\n",
       "      <td>0</td>\n",
       "      <td>0</td>\n",
       "      <td>3</td>\n",
       "      <td>2</td>\n",
       "      <td>!!! RT @mayasolovely: As a woman you shouldn't...</td>\n",
       "    </tr>\n",
       "    <tr>\n",
       "      <th>1</th>\n",
       "      <td>3</td>\n",
       "      <td>0</td>\n",
       "      <td>3</td>\n",
       "      <td>0</td>\n",
       "      <td>1</td>\n",
       "      <td>!!!!! RT @mleew17: boy dats cold...tyga dwn ba...</td>\n",
       "    </tr>\n",
       "    <tr>\n",
       "      <th>2</th>\n",
       "      <td>3</td>\n",
       "      <td>0</td>\n",
       "      <td>3</td>\n",
       "      <td>0</td>\n",
       "      <td>1</td>\n",
       "      <td>!!!!!!! RT @UrKindOfBrand Dawg!!!! RT @80sbaby...</td>\n",
       "    </tr>\n",
       "    <tr>\n",
       "      <th>3</th>\n",
       "      <td>3</td>\n",
       "      <td>0</td>\n",
       "      <td>2</td>\n",
       "      <td>1</td>\n",
       "      <td>1</td>\n",
       "      <td>!!!!!!!!! RT @C_G_Anderson: @viva_based she lo...</td>\n",
       "    </tr>\n",
       "    <tr>\n",
       "      <th>4</th>\n",
       "      <td>6</td>\n",
       "      <td>0</td>\n",
       "      <td>6</td>\n",
       "      <td>0</td>\n",
       "      <td>1</td>\n",
       "      <td>!!!!!!!!!!!!! RT @ShenikaRoberts: The shit you...</td>\n",
       "    </tr>\n",
       "  </tbody>\n",
       "</table>\n",
       "</div>"
      ],
      "text/plain": [
       "   count  ...                                              tweet\n",
       "0      3  ...  !!! RT @mayasolovely: As a woman you shouldn't...\n",
       "1      3  ...  !!!!! RT @mleew17: boy dats cold...tyga dwn ba...\n",
       "2      3  ...  !!!!!!! RT @UrKindOfBrand Dawg!!!! RT @80sbaby...\n",
       "3      3  ...  !!!!!!!!! RT @C_G_Anderson: @viva_based she lo...\n",
       "4      6  ...  !!!!!!!!!!!!! RT @ShenikaRoberts: The shit you...\n",
       "\n",
       "[5 rows x 6 columns]"
      ]
     },
     "execution_count": 3,
     "metadata": {},
     "output_type": "execute_result"
    }
   ],
   "source": [
    "data = pd.read_csv('../Downloads/hate_speech.csv')\n",
    "data.head()"
   ]
  },
  {
   "cell_type": "code",
   "execution_count": 4,
   "metadata": {},
   "outputs": [
    {
     "data": {
      "text/plain": [
       "(24783, 6)"
      ]
     },
     "execution_count": 4,
     "metadata": {},
     "output_type": "execute_result"
    }
   ],
   "source": [
    "data.shape"
   ]
  },
  {
   "cell_type": "code",
   "execution_count": 25,
   "metadata": {},
   "outputs": [
    {
     "name": "stdout",
     "output_type": "stream",
     "text": [
      "<class 'pandas.core.frame.DataFrame'>\n",
      "RangeIndex: 24783 entries, 0 to 24782\n",
      "Data columns (total 6 columns):\n",
      " #   Column                    Non-Null Count  Dtype \n",
      "---  ------                    --------------  ----- \n",
      " 0   count                     24783 non-null  int64 \n",
      " 1   hate_speech_count         24783 non-null  int64 \n",
      " 2   offensive_language_count  24783 non-null  int64 \n",
      " 3   neither_count             24783 non-null  int64 \n",
      " 4   class                     24783 non-null  int64 \n",
      " 5   tweet                     24783 non-null  object\n",
      "dtypes: int64(5), object(1)\n",
      "memory usage: 1.1+ MB\n"
     ]
    }
   ],
   "source": [
    "data.info()"
   ]
  },
  {
   "cell_type": "code",
   "execution_count": 30,
   "metadata": {},
   "outputs": [
    {
     "name": "stdout",
     "output_type": "stream",
     "text": [
      "Duplicated data in dataset: 0\n"
     ]
    }
   ],
   "source": [
    "print(f'Duplicated data in dataset: {data.duplicated().sum()}')"
   ]
  },
  {
   "cell_type": "code",
   "execution_count": 31,
   "metadata": {},
   "outputs": [
    {
     "name": "stdout",
     "output_type": "stream",
     "text": [
      "Missing values in dataset: count                       0\n",
      "hate_speech_count           0\n",
      "offensive_language_count    0\n",
      "neither_count               0\n",
      "class                       0\n",
      "tweet                       0\n",
      "dtype: int64\n"
     ]
    }
   ],
   "source": [
    "print(f'Missing values in dataset: {data.isnull().sum()}')"
   ]
  },
  {
   "cell_type": "code",
   "execution_count": 24,
   "metadata": {},
   "outputs": [
    {
     "data": {
      "text/plain": [
       "class\n",
       "1    19190\n",
       "2     4163\n",
       "0     1430\n",
       "Name: count, dtype: int64"
      ]
     },
     "execution_count": 24,
     "metadata": {},
     "output_type": "execute_result"
    }
   ],
   "source": [
    "(data['class'].value_counts())"
   ]
  },
  {
   "cell_type": "markdown",
   "metadata": {},
   "source": [
    "After checking the data we found following results:\n",
    "- There are 24783 rows in dataset.\n",
    "- There is 6 columns out of those only one column is Object (string) data type and others are Integer.\n",
    "- There is no Duplicated values in the dataset.\n",
    "- There is no missing values in the dataset.\n",
    "- The data is divided into three class out of that class 1 has most values followed by class 2 and class 0 is the last.\n",
    "\n",
    "\n",
    "We can also say this, that the data is not vell balanced between the classes. We can try some different methods to balance the data but let's first make the model and check how it is performing."
   ]
  },
  {
   "cell_type": "markdown",
   "metadata": {},
   "source": [
    "### Taking out the feature and target \n",
    "We will take the feature column (tweet) and target column (class) to use and leave all other columns behind as they are not usable for model."
   ]
  },
  {
   "cell_type": "code",
   "execution_count": 62,
   "metadata": {},
   "outputs": [],
   "source": [
    "X = data['tweet'].to_numpy()\n",
    "y = data['class'].to_numpy()"
   ]
  },
  {
   "cell_type": "markdown",
   "metadata": {},
   "source": [
    "### Preprocess the data"
   ]
  },
  {
   "cell_type": "code",
   "execution_count": 63,
   "metadata": {},
   "outputs": [],
   "source": [
    "# Set NLTK Stopwords Language to English\n",
    "stop_words = set(stopwords.words('english'))\n",
    "\n",
    "# Remove Retweet in Data\n",
    "stop_words.add('rt')\n",
    "\n",
    "# Remove HTML\n",
    "def remove_html(text):\n",
    "    html_regex = r'\"&[^\\s;]+;' \n",
    "    clean_text = re.sub(html_regex, '', text)\n",
    "    return clean_text\n",
    "\n",
    "# Remove User Tag\n",
    "def remove_user_tag(text):\n",
    "    tag_regex = r'@([^ ]+)'\n",
    "    clean_text = re.sub(tag_regex, 'user', text)\n",
    "    return clean_text\n",
    "\n",
    "# Remove URL\n",
    "def remove_url(text):\n",
    "    url_regex = r\"(?i)\\b((?:https?://|www\\d{0,3}[.]|[a-z0-9.\\-]+[.][a-z]{2,4}/)(?:[^\\s()<>]+|\\(([^\\s()<>]+|(\\([^\\s()<>]+\\)))*\\))+(?:\\(([^\\s()<>]+|(\\([^\\s()<>]+\\)))*\\)|[^\\s`!()\\[\\]{};:'\\\".,<>?«»“”‘’]))\"\n",
    "    clean_text = re.sub(url_regex, '', text)\n",
    "    return clean_text\n",
    "\n",
    "def remove_symbols(text):\n",
    "    clean_text = text.replace('\"', '')\n",
    "    clean_text = clean_text.replace(\"'\", '')\n",
    "    clean_text = clean_text.replace(\"!\", '')\n",
    "    clean_text = clean_text.replace(\"`\", '')\n",
    "    clean_text = clean_text.replace(\"..\", '')\n",
    "    return clean_text\n",
    "\n",
    "# Remove Stopwords\n",
    "def remove_stopwords(text):\n",
    "    tokenized_words = nltk.word_tokenize(text)\n",
    "    clean_text = [word for word in tokenized_words if not word.lower() in stop_words]\n",
    "    clean_text = ' '.join(clean_text)\n",
    "    return clean_text\n",
    "\n",
    "# Preprocess the data\n",
    "def preprocess(data):\n",
    "    clean_text = []\n",
    "    clean_text = [remove_user_tag(text) for text in data]\n",
    "    clean_text = [remove_html(text) for text in clean_text]\n",
    "    clean_text = [remove_url(text) for text in clean_text]\n",
    "    clean_text = [remove_symbols(text) for text in clean_text]\n",
    "    clean_text = [remove_stopwords(text) for text in clean_text]\n",
    "    return clean_text"
   ]
  },
  {
   "cell_type": "code",
   "execution_count": 64,
   "metadata": {},
   "outputs": [
    {
     "data": {
      "text/plain": [
       "['user woman shouldnt complain cleaning house . & amp ; man always take trash .',\n",
       " 'user boy dats cold.tyga dwn bad cuffin dat hoe 1st place',\n",
       " 'user Dawg user ever fuck bitch start cry ? confused shit',\n",
       " 'user user look like tranny',\n",
       " 'user shit hear might true might faker bitch told ya & # 57361 ;',\n",
       " 'user shit blows meclaim faithful somebody still fucking hoes & # 128514 ; & # 128514 ; & # 128514 ;',\n",
       " 'user sit HATE another bitch got much shit going',\n",
       " '& # 8220 ; user cause Im tired big bitches coming us skinny girls & # 8221 ;',\n",
       " '& amp ; might get ya bitch back & amp ; thats',\n",
       " 'user : hobbies include : fighting Mariam bitch']"
      ]
     },
     "execution_count": 64,
     "metadata": {},
     "output_type": "execute_result"
    }
   ],
   "source": [
    "clean_X = preprocess(X)\n",
    "clean_X[:10]"
   ]
  },
  {
   "cell_type": "markdown",
   "metadata": {},
   "source": [
    "### Split the data into Train and Text datasets"
   ]
  },
  {
   "cell_type": "code",
   "execution_count": 65,
   "metadata": {},
   "outputs": [],
   "source": [
    "X_train, X_test, y_train, y_test = train_test_split(clean_X, y, test_size=0.2, random_state=42)"
   ]
  },
  {
   "cell_type": "code",
   "execution_count": 66,
   "metadata": {},
   "outputs": [
    {
     "data": {
      "text/plain": [
       "(19826, 4957, 19826, 4957)"
      ]
     },
     "execution_count": 66,
     "metadata": {},
     "output_type": "execute_result"
    }
   ],
   "source": [
    "len(X_train), len(X_test), len(y_train), len(y_test)"
   ]
  },
  {
   "cell_type": "markdown",
   "metadata": {},
   "source": [
    "### Turning text to sequence"
   ]
  },
  {
   "cell_type": "code",
   "execution_count": 68,
   "metadata": {},
   "outputs": [],
   "source": [
    "tokenizer = Tokenizer()\n",
    "\n",
    "tokenizer.fit_on_texts(X_train)\n",
    "\n",
    "X_train = tokenizer.texts_to_sequences(X_train)\n",
    "X_test = tokenizer.texts_to_sequences(X_test)"
   ]
  },
  {
   "cell_type": "code",
   "execution_count": 69,
   "metadata": {},
   "outputs": [
    {
     "data": {
      "text/plain": [
       "(18949, 72)"
      ]
     },
     "execution_count": 69,
     "metadata": {},
     "output_type": "execute_result"
    }
   ],
   "source": [
    "# Vocabulary Size\n",
    "vocab_size = len(tokenizer.word_index) + 1\n",
    "\n",
    "# Max Length of words \n",
    "max_length = max(len(seq) for seq in X_train)\n",
    "\n",
    "vocab_size, max_length"
   ]
  },
  {
   "cell_type": "code",
   "execution_count": 70,
   "metadata": {},
   "outputs": [],
   "source": [
    "# Uniforming the sequence\n",
    "X_train = pad_sequences(X_train, maxlen=max_length)\n",
    "X_test = pad_sequences(X_test, maxlen=max_length)"
   ]
  },
  {
   "cell_type": "code",
   "execution_count": 71,
   "metadata": {},
   "outputs": [],
   "source": [
    "# Creating OHE for the targets\n",
    "y_train = to_categorical(y_train, num_classes=3)\n",
    "y_test = to_categorical(y_test, num_classes=3)"
   ]
  },
  {
   "cell_type": "markdown",
   "metadata": {},
   "source": [
    "### Create the model"
   ]
  },
  {
   "cell_type": "code",
   "execution_count": 91,
   "metadata": {},
   "outputs": [
    {
     "name": "stdout",
     "output_type": "stream",
     "text": [
      "Epoch 1/5\n",
      "310/310 [==============================] - 87s 262ms/step - loss: 0.4911 - accuracy: 0.8272 - val_loss: 0.3504 - val_accuracy: 0.8786\n",
      "Epoch 2/5\n",
      "310/310 [==============================] - 81s 262ms/step - loss: 0.2850 - accuracy: 0.9108 - val_loss: 0.3465 - val_accuracy: 0.8820\n",
      "Epoch 3/5\n",
      "310/310 [==============================] - 80s 257ms/step - loss: 0.2001 - accuracy: 0.9285 - val_loss: 0.3923 - val_accuracy: 0.8828\n",
      "Epoch 4/5\n",
      "310/310 [==============================] - 81s 261ms/step - loss: 0.1429 - accuracy: 0.9457 - val_loss: 0.5320 - val_accuracy: 0.8721\n",
      "Epoch 5/5\n",
      "310/310 [==============================] - 81s 262ms/step - loss: 0.1136 - accuracy: 0.9599 - val_loss: 0.5103 - val_accuracy: 0.8648\n"
     ]
    }
   ],
   "source": [
    "# Output size for embedding layer\n",
    "output_dim = 200\n",
    "\n",
    "# Create the model\n",
    "model = Sequential([\n",
    "    Embedding(input_dim=vocab_size,\n",
    "              output_dim=output_dim,\n",
    "              input_length=max_length),\n",
    "    LSTM(64, dropout=0.3, recurrent_dropout=0.3),\n",
    "    Dropout(0.5),\n",
    "    Dense(128, activation='relu'),\n",
    "    Dropout(0.5),\n",
    "    Dense(64, activation='relu'),\n",
    "    Dropout(0.5),\n",
    "    Dense(3, activation='softmax')\n",
    "])\n",
    "\n",
    "# Compile the model\n",
    "model.compile(loss='categorical_crossentropy',\n",
    "              optimizer=tf.keras.optimizers.Adam(),\n",
    "              metrics=['accuracy'])\n",
    "\n",
    "# Fit the model\n",
    "history = model.fit(X_train,\n",
    "                    y_train,\n",
    "                    epochs=5,\n",
    "                    batch_size=64,\n",
    "                    validation_data=(X_test, y_test))"
   ]
  },
  {
   "cell_type": "code",
   "execution_count": 92,
   "metadata": {},
   "outputs": [
    {
     "data": {
      "text/plain": [
       "<matplotlib.legend.Legend at 0x13ad35ed0>"
      ]
     },
     "execution_count": 92,
     "metadata": {},
     "output_type": "execute_result"
    },
    {
     "data": {
      "image/png": "[encoded data removed]",
      "text/plain": [
       "<Figure size 640x480 with 1 Axes>"
      ]
     },
     "metadata": {},
     "output_type": "display_data"
    }
   ],
   "source": [
    "plt.plot(range(len(history.history['loss'])),history.history['loss'], label='trainig_loss')\n",
    "plt.plot(range(len(history.history['loss'])),history.history['val_loss'], label='validation_loss')\n",
    "plt.legend()"
   ]
  },
  {
   "cell_type": "code",
   "execution_count": 93,
   "metadata": {},
   "outputs": [
    {
     "data": {
      "text/plain": [
       "<matplotlib.legend.Legend at 0x13adce3e0>"
      ]
     },
     "execution_count": 93,
     "metadata": {},
     "output_type": "execute_result"
    },
    {
     "data": {
      "image/png": "[encoded data removed]",
      "text/plain": [
       "<Figure size 640x480 with 1 Axes>"
      ]
     },
     "metadata": {},
     "output_type": "display_data"
    }
   ],
   "source": [
    "plt.plot(range(len(history.history['accuracy'])),history.history['accuracy'], label='trainig_accuracy')\n",
    "plt.plot(range(len(history.history['accuracy'])),history.history['val_accuracy'], label='validation_accuracy')\n",
    "plt.legend()"
   ]
  }
 ],
 "metadata": {
  "kernelspec": {
   "display_name": "Python 3",
   "language": "python",
   "name": "python3"
  },
  "language_info": {
   "codemirror_mode": {
    "name": "ipython",
    "version": 3
   },
   "file_extension": ".py",
   "mimetype": "text/x-python",
   "name": "python",
   "nbconvert_exporter": "python",
   "pygments_lexer": "ipython3",
   "version": "3.10.11"
  }
 },
 "nbformat": 4,
 "nbformat_minor": 2
}
